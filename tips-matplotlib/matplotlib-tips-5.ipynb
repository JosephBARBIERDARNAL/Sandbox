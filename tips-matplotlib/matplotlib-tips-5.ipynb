{
 "cells": [
  {
   "cell_type": "markdown",
   "metadata": {},
   "source": [
    "## An infinite number of palettes\n",
    "\n",
    "Recently, the `pypalettes` library was released, proviving more than 2500 differents palettes for your data visualization. \n",
    "\n",
    "But how can you find your dream palette in such a large collection? The solution is the [Color Palette Finder](https://python-graph-gallery.com/color-palette-finder/), available in the Python Graph Gallery.\n",
    "\n",
    "<div align=\"center\">\n",
    "  <img src=\"palettes-finder.png\" width=\"90%\" />\n",
    "</div>\n",
    "\n",
    "This tools allows you to browse with filters, and to see the palette in action with different charts and the associated reproducible code.\n",
    "\n",
    "Once you have found the perfect palette, just copy the single line of code needed to use it in your own project.\n",
    "\n",
    "```python\n",
    "from pypalettes import load_cmap\n",
    "cmap = load_cmap(\"Acadia\")\n",
    "```\n",
    "\n",
    "Enjoy!\n",
    "\n",
    "[Browse the Color Palette Finder](https://python-graph-gallery.com/color-palette-finder/)\n",
    "\n",
    "<br><br><br><br><br><br><br><br><br><br><br><br><br><br><br><br><br><br><br><br><br><br><br><br><br><br><br>"
   ]
  },
  {
   "cell_type": "code",
   "execution_count": 8,
   "metadata": {},
   "outputs": [
    {
     "data": {
      "image/png": "[encoded data removed]",
      "text/html": [
       "<div style=\"vertical-align: middle;\"><strong>Acadia</strong> </div><div class=\"cmap\"><img alt=\"Acadia colormap\" title=\"Acadia\" style=\"border: 1px solid #555;\" src=\"data:image/png;base64,iVBORw0KGgoAAAANSUhEUgAAAgAAAABACAYAAABsv8+/AAAAFXRFWHRUaXRsZQBBY2FkaWEgY29sb3JtYXCtUFdiAAAAG3RFWHREZXNjcmlwdGlvbgBBY2FkaWEgY29sb3JtYXDkx0+GAAAAMHRFWHRBdXRob3IATWF0cGxvdGxpYiB2My44LjQsIGh0dHBzOi8vbWF0cGxvdGxpYi5vcmdkzrK0AAAAMnRFWHRTb2Z0d2FyZQBNYXRwbG90bGliIHYzLjguNCwgaHR0cHM6Ly9tYXRwbG90bGliLm9yZ0poLZMAAAFZSURBVHic7dbBrQFAAABR5N/0ow1+ARIliKsKlKENfYgWVIEmxCY771Uwx1m+Hpf3gq/7O9xGJ0znuFuPTpjO/bkZnTCd/fZ/dMJ0rufT6IQprUYHAAC/ZwAAIMgAAECQAQCAIAMAAEEGAACCDAAABBkAAAgyAAAQZAAAIMgAAECQAQCAIAMAAEEGAACCDAAABBkAAAgyAAAQZAAAIMgAAECQAQCAIAMAAEEGAACCDAAABBkAAAgyAAAQZAAAIMgAAECQAQCAIAMAAEEGAACCDAAABBkAAAgyAAAQZAAAIMgAAECQAQCAIAMAAEEGAACCDAAABBkAAAgyAAAQZAAAIMgAAECQAQCAIAMAAEEGAACCDAAABBkAAAgyAAAQZAAAIMgAAECQAQCAIAMAAEEGAACCDAAABBkAAAgyAAAQZAAAIMgAAECQAQCAIAMAAEEGAACCDAAABH0Aj/4KRBw8Q3UAAAAASUVORK5CYII=\"></div><div style=\"vertical-align: middle; max-width: 514px; display: flex; justify-content: space-between;\"><div style=\"float: left;\"><div title=\"#fed789ff\" style=\"display: inline-block; width: 1em; height: 1em; margin: 0; vertical-align: middle; border: 1px solid #555; background-color: #fed789ff;\"></div> under</div><div style=\"margin: 0 auto; display: inline-block;\">bad <div title=\"#00000000\" style=\"display: inline-block; width: 1em; height: 1em; margin: 0; vertical-align: middle; border: 1px solid #555; background-color: #00000000;\"></div></div><div style=\"float: right;\">over <div title=\"#453947ff\" style=\"display: inline-block; width: 1em; height: 1em; margin: 0; vertical-align: middle; border: 1px solid #555; background-color: #453947ff;\"></div></div>"
      ],
      "text/plain": [
       "<matplotlib.colors.ListedColormap at 0x10420b910>"
      ]
     },
     "execution_count": 8,
     "metadata": {},
     "output_type": "execute_result"
    }
   ],
   "source": [
    "from pypalettes import load_cmap\n",
    "cmap = load_cmap(\"Acadia\")\n",
    "cmap"
   ]
  }
 ],
 "metadata": {
  "kernelspec": {
   "display_name": "venv",
   "language": "python",
   "name": "python3"
  },
  "language_info": {
   "codemirror_mode": {
    "name": "ipython",
    "version": 3
   },
   "file_extension": ".py",
   "mimetype": "text/x-python",
   "name": "python",
   "nbconvert_exporter": "python",
   "pygments_lexer": "ipython3",
   "version": "3.10.13"
  },
  "orig_nbformat": 4
 },
 "nbformat": 4,
 "nbformat_minor": 2
}
