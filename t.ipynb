{
 "cells": [
  {
   "cell_type": "code",
   "execution_count": 2,
   "metadata": {},
   "outputs": [
    {
     "name": "stdout",
     "output_type": "stream",
     "text": [
      "{'type': 'Line2D', 'properties': {'agg_filter': None, 'alpha': None, 'animated': False, 'antialiased': True, 'bbox': Bbox([[0.0, 0.0], [1.0, 1.0]]), 'children': [], 'clip_box': <matplotlib.transforms.TransformedBbox object at 0x107e52d10>, 'clip_on': True, 'clip_path': None, 'color': '#1f77b4', 'dash_capstyle': 'butt', 'dash_joinstyle': 'round', 'data': (array([0, 1]), array([0, 1])), 'drawstyle': 'default', 'figure': <Figure size 640x480 with 1 Axes>, 'fillstyle': 'full', 'gapcolor': None, 'gid': None, 'in_layout': True, 'label': 'Line', 'linestyle': '-', 'linewidth': 1.5, 'marker': 'None', 'markeredgecolor': '#1f77b4', 'markeredgewidth': 1.0, 'markerfacecolor': '#1f77b4', 'markerfacecoloralt': 'none', 'markersize': 6.0, 'markevery': None, 'mouseover': False, 'path': Path(array([[0., 0.],\n",
      "       [1., 1.]]), None), 'path_effects': [], 'picker': None, 'pickradius': 5, 'rasterized': False, 'sketch_params': None, 'snap': None, 'solid_capstyle': 'projecting', 'solid_joinstyle': 'round', 'tightbbox': Bbox([[102.54545454545455, 69.6], [553.4545454545454, 405.5999999999999]]), 'transform': <matplotlib.transforms.CompositeGenericTransform object at 0x107e15ae0>, 'transformed_clip_path_and_affine': (None, None), 'url': None, 'visible': True, 'window_extent': Bbox([[102.54545454545455, 69.6], [553.4545454545454, 405.5999999999999]]), 'xdata': array([0, 1]), 'xydata': array([[0., 0.],\n",
      "       [1., 1.]]), 'ydata': array([0, 1]), 'zorder': 2}}\n",
      "\n",
      "{'type': 'PathCollection', 'properties': {'agg_filter': None, 'alpha': None, 'animated': False, 'antialiased': array([ True]), 'array': None, 'capstyle': None, 'children': [], 'clim': (None, None), 'clip_box': <matplotlib.transforms.TransformedBbox object at 0x107e53280>, 'clip_on': True, 'clip_path': None, 'cmap': <matplotlib.colors.ListedColormap object at 0x107e53070>, 'edgecolor': array([[1., 0., 0., 1.]]), 'facecolor': array([[1., 0., 0., 1.]]), 'figure': <Figure size 640x480 with 1 Axes>, 'fill': True, 'gid': None, 'hatch': None, 'in_layout': True, 'joinstyle': None, 'label': 'Point', 'linestyle': [(0.0, None)], 'linewidth': array([1.]), 'mouseover': False, 'offset_transform': <matplotlib.transforms.CompositeGenericTransform object at 0x107e15ae0>, 'offsets': masked_array(data=[[0.5, 0.5]],\n",
      "             mask=[[False, False]],\n",
      "       fill_value=1e+20), 'path_effects': None, 'paths': (Path(array([[ 0.        , -0.5       ],\n",
      "       [ 0.13260155, -0.5       ],\n",
      "       [ 0.25978994, -0.44731685],\n",
      "       [ 0.35355339, -0.35355339],\n",
      "       [ 0.44731685, -0.25978994],\n",
      "       [ 0.5       , -0.13260155],\n",
      "       [ 0.5       ,  0.        ],\n",
      "       [ 0.5       ,  0.13260155],\n",
      "       [ 0.44731685,  0.25978994],\n",
      "       [ 0.35355339,  0.35355339],\n",
      "       [ 0.25978994,  0.44731685],\n",
      "       [ 0.13260155,  0.5       ],\n",
      "       [ 0.        ,  0.5       ],\n",
      "       [-0.13260155,  0.5       ],\n",
      "       [-0.25978994,  0.44731685],\n",
      "       [-0.35355339,  0.35355339],\n",
      "       [-0.44731685,  0.25978994],\n",
      "       [-0.5       ,  0.13260155],\n",
      "       [-0.5       ,  0.        ],\n",
      "       [-0.5       , -0.13260155],\n",
      "       [-0.44731685, -0.25978994],\n",
      "       [-0.35355339, -0.35355339],\n",
      "       [-0.25978994, -0.44731685],\n",
      "       [-0.13260155, -0.5       ],\n",
      "       [ 0.        , -0.5       ],\n",
      "       [ 0.        , -0.5       ]]), array([ 1,  4,  4,  4,  4,  4,  4,  4,  4,  4,  4,  4,  4,  4,  4,  4,  4,\n",
      "        4,  4,  4,  4,  4,  4,  4,  4, 79], dtype=uint8)),), 'picker': None, 'pickradius': 5.0, 'rasterized': False, 'sizes': array([36.]), 'sketch_params': None, 'snap': None, 'tightbbox': Bbox([[80.0, 52.8], [576.0, 422.4]]), 'transform': <matplotlib.transforms.IdentityTransform object at 0x107e530d0>, 'transformed_clip_path_and_affine': (None, None), 'transforms': array([[[6., 0., 0.],\n",
      "        [0., 6., 0.],\n",
      "        [0., 0., 1.]]]), 'url': None, 'urls': [None], 'visible': True, 'window_extent': Bbox([[inf, inf], [-inf, -inf]]), 'zorder': 1}}\n",
      "\n",
      "{'type': 'Spine', 'properties': {'agg_filter': None, 'alpha': None, 'animated': False, 'antialiased': True, 'bounds': None, 'capstyle': 'projecting', 'children': [], 'clip_box': None, 'clip_on': True, 'clip_path': None, 'data_transform': <matplotlib.transforms.BlendedGenericTransform object at 0x107e15b40>, 'edgecolor': (0.0, 0.0, 0.0, 1.0), 'extents': Bbox([[80.0, 405.2639999999999], [80.0, 405.2639999999999]]), 'facecolor': (0.0, 0.0, 0.0, 0.0), 'figure': <Figure size 640x480 with 1 Axes>, 'fill': True, 'gid': None, 'hatch': None, 'in_layout': True, 'joinstyle': 'miter', 'label': '', 'linestyle': 'solid', 'linewidth': 0.8, 'mouseover': False, 'patch_transform': <matplotlib.transforms.IdentityTransform object at 0x107e809d0>, 'path': Path(array([[ 0.  , -0.05],\n",
      "       [ 0.  ,  1.05]]), None), 'path_effects': [], 'picker': None, 'position': ('outward', 0.0), 'rasterized': False, 'sketch_params': None, 'snap': None, 'spine_transform': <matplotlib.transforms.BlendedGenericTransform object at 0x107e15b40>, 'tightbbox': Bbox([[75.13888888888889, 52.8], [80.0, 422.4]]), 'transform': <matplotlib.transforms.BlendedGenericTransform object at 0x107e15b40>, 'transformed_clip_path_and_affine': (None, None), 'url': None, 'verts': [], 'visible': True, 'window_extent': Bbox([[75.13888888888889, 52.8], [80.0, 422.4]]), 'zorder': 2.5}}\n",
      "\n",
      "{'type': 'Spine', 'properties': {'agg_filter': None, 'alpha': None, 'animated': False, 'antialiased': True, 'bounds': None, 'capstyle': 'projecting', 'children': [], 'clip_box': None, 'clip_on': True, 'clip_path': None, 'data_transform': <matplotlib.transforms.BlendedGenericTransform object at 0x107e15b40>, 'edgecolor': (0.0, 0.0, 0.0, 1.0), 'extents': Bbox([[576.0, 405.2639999999999], [576.0, 405.2639999999999]]), 'facecolor': (0.0, 0.0, 0.0, 0.0), 'figure': <Figure size 640x480 with 1 Axes>, 'fill': True, 'gid': None, 'hatch': None, 'in_layout': True, 'joinstyle': 'miter', 'label': '', 'linestyle': 'solid', 'linewidth': 0.8, 'mouseover': False, 'patch_transform': <matplotlib.transforms.IdentityTransform object at 0x107e98550>, 'path': Path(array([[ 1.  , -0.05],\n",
      "       [ 1.  ,  1.05]]), None), 'path_effects': [], 'picker': None, 'position': ('outward', 0.0), 'rasterized': False, 'sketch_params': None, 'snap': None, 'spine_transform': <matplotlib.transforms.BlendedGenericTransform object at 0x107e15b40>, 'tightbbox': Bbox([[576.0, 52.8], [576.0, 422.4]]), 'transform': <matplotlib.transforms.BlendedGenericTransform object at 0x107e15b40>, 'transformed_clip_path_and_affine': (None, None), 'url': None, 'verts': [], 'visible': True, 'window_extent': Bbox([[576.0, 52.8], [576.0, 422.4]]), 'zorder': 2.5}}\n",
      "\n",
      "{'type': 'Spine', 'properties': {'agg_filter': None, 'alpha': None, 'animated': False, 'antialiased': True, 'bounds': None, 'capstyle': 'projecting', 'children': [], 'clip_box': None, 'clip_on': True, 'clip_path': None, 'data_transform': <matplotlib.transforms.BlendedGenericTransform object at 0x107e15b10>, 'edgecolor': (0.0, 0.0, 0.0, 1.0), 'extents': Bbox([[553.0036363636364, 52.8], [553.0036363636364, 52.8]]), 'facecolor': (0.0, 0.0, 0.0, 0.0), 'figure': <Figure size 640x480 with 1 Axes>, 'fill': True, 'gid': None, 'hatch': None, 'in_layout': True, 'joinstyle': 'miter', 'label': '', 'linestyle': 'solid', 'linewidth': 0.8, 'mouseover': False, 'patch_transform': <matplotlib.transforms.IdentityTransform object at 0x107e98880>, 'path': Path(array([[-0.05,  0.  ],\n",
      "       [ 1.05,  0.  ]]), None), 'path_effects': [], 'picker': None, 'position': ('outward', 0.0), 'rasterized': False, 'sketch_params': None, 'snap': None, 'spine_transform': <matplotlib.transforms.BlendedGenericTransform object at 0x107e15b10>, 'tightbbox': Bbox([[80.0, 47.93888888888888], [576.0, 52.8]]), 'transform': <matplotlib.transforms.BlendedGenericTransform object at 0x107e15b10>, 'transformed_clip_path_and_affine': (None, None), 'url': None, 'verts': [], 'visible': True, 'window_extent': Bbox([[80.0, 47.93888888888888], [576.0, 52.8]]), 'zorder': 2.5}}\n",
      "\n",
      "{'type': 'Spine', 'properties': {'agg_filter': None, 'alpha': None, 'animated': False, 'antialiased': True, 'bounds': None, 'capstyle': 'projecting', 'children': [], 'clip_box': None, 'clip_on': True, 'clip_path': None, 'data_transform': <matplotlib.transforms.BlendedGenericTransform object at 0x107e15b10>, 'edgecolor': (0.0, 0.0, 0.0, 1.0), 'extents': Bbox([[553.0036363636364, 422.4], [553.0036363636364, 422.4]]), 'facecolor': (0.0, 0.0, 0.0, 0.0), 'figure': <Figure size 640x480 with 1 Axes>, 'fill': True, 'gid': None, 'hatch': None, 'in_layout': True, 'joinstyle': 'miter', 'label': '', 'linestyle': 'solid', 'linewidth': 0.8, 'mouseover': False, 'patch_transform': <matplotlib.transforms.IdentityTransform object at 0x107eb44f0>, 'path': Path(array([[-0.05,  1.  ],\n",
      "       [ 1.05,  1.  ]]), None), 'path_effects': [], 'picker': None, 'position': ('outward', 0.0), 'rasterized': False, 'sketch_params': None, 'snap': None, 'spine_transform': <matplotlib.transforms.BlendedGenericTransform object at 0x107e15b10>, 'tightbbox': Bbox([[80.0, 422.4], [576.0, 422.4]]), 'transform': <matplotlib.transforms.BlendedGenericTransform object at 0x107e15b10>, 'transformed_clip_path_and_affine': (None, None), 'url': None, 'verts': [], 'visible': True, 'window_extent': Bbox([[80.0, 422.4], [576.0, 422.4]]), 'zorder': 2.5}}\n",
      "\n",
      "{'type': 'XAxis', 'properties': {'agg_filter': None, 'alpha': None, 'animated': False, 'children': [Text(0.5, 23.52222222222222, 'X-axis'), Text(1, 24.911111111111108, ''), <matplotlib.axis.XTick object at 0x107e16cb0>, <matplotlib.axis.XTick object at 0x107e15720>, <matplotlib.axis.XTick object at 0x107e98af0>, <matplotlib.axis.XTick object at 0x107e99510>, <matplotlib.axis.XTick object at 0x107e81b10>, <matplotlib.axis.XTick object at 0x107e9a200>, <matplotlib.axis.XTick object at 0x107e9ace0>, <matplotlib.axis.XTick object at 0x107e9b790>], 'clip_box': <matplotlib.transforms.TransformedBbox object at 0x107e50370>, 'clip_on': True, 'clip_path': None, 'data_interval': array([0., 1.]), 'figure': <Figure size 640x480 with 1 Axes>, 'gid': None, 'gridlines': <a list of 8 Line2D gridline objects>, 'in_layout': True, 'inverted': False, 'label': Text(0.5, 23.52222222222222, 'X-axis'), 'label_position': 'bottom', 'label_text': 'X-axis', 'major_formatter': <matplotlib.ticker.ScalarFormatter object at 0x107e162f0>, 'major_locator': <matplotlib.ticker.AutoLocator object at 0x107e16350>, 'major_ticks': [<matplotlib.axis.XTick object at 0x107e16cb0>, <matplotlib.axis.XTick object at 0x107e15720>, <matplotlib.axis.XTick object at 0x107e98af0>, <matplotlib.axis.XTick object at 0x107e99510>, <matplotlib.axis.XTick object at 0x107e81b10>, <matplotlib.axis.XTick object at 0x107e9a200>, <matplotlib.axis.XTick object at 0x107e9ace0>, <matplotlib.axis.XTick object at 0x107e9b790>], 'majorticklabels': [Text(-0.2, 0, '−0.2'), Text(0.0, 0, '0.0'), Text(0.2, 0, '0.2'), Text(0.4000000000000001, 0, '0.4'), Text(0.6000000000000001, 0, '0.6'), Text(0.8, 0, '0.8'), Text(1.0000000000000002, 0, '1.0'), Text(1.2000000000000002, 0, '1.2')], 'majorticklines': <a list of 16 Line2D ticklines objects>, 'majorticklocs': array([-0.2,  0. ,  0.2,  0.4,  0.6,  0.8,  1. ,  1.2]), 'minor_formatter': <matplotlib.ticker.NullFormatter object at 0x107e167d0>, 'minor_locator': <matplotlib.ticker.NullLocator object at 0x107e16320>, 'minor_ticks': [], 'minorticklabels': [], 'minorticklines': <a list of 0 Line2D ticklines objects>, 'minorticklocs': array([], dtype=float64), 'minpos': 0.5, 'mouseover': False, 'offset_text': Text(1, 24.911111111111108, ''), 'path_effects': [], 'picker': None, 'pickradius': 15, 'rasterized': False, 'remove_overlapping_locs': True, 'scale': 'linear', 'sketch_params': None, 'snap': None, 'tick_padding': 3.5, 'tick_params': {'left': True, 'right': False, 'labelleft': True, 'labelright': False, 'gridOn': False}, 'tick_space': 11, 'ticklabels': [Text(-0.2, 0, '−0.2'), Text(0.0, 0, '0.0'), Text(0.2, 0, '0.2'), Text(0.4000000000000001, 0, '0.4'), Text(0.6000000000000001, 0, '0.6'), Text(0.8, 0, '0.8'), Text(1.0000000000000002, 0, '1.0'), Text(1.2000000000000002, 0, '1.2')], 'ticklines': <a list of 16 Line2D ticklines objects>, 'ticklocs': array([-0.2,  0. ,  0.2,  0.4,  0.6,  0.8,  1. ,  1.2]), 'ticks_direction': array(['out', 'out', 'out', 'out', 'out', 'out', 'out', 'out'],\n",
      "      dtype='<U3'), 'ticks_position': 'bottom', 'tightbbox': Bbox([[91.60795454545455, 9.522222222222219], [564.4545454545455, 43.077777777777776]]), 'transform': <matplotlib.transforms.IdentityTransform object at 0x107dc9180>, 'transformed_clip_path_and_affine': (None, None), 'units': None, 'url': None, 'view_interval': array([-0.05,  1.05]), 'visible': True, 'window_extent': Bbox([[0.0, 0.0], [0.0, 0.0]]), 'zorder': 1.5}}\n",
      "\n",
      "{'type': 'YAxis', 'properties': {'agg_filter': None, 'alpha': None, 'animated': False, 'children': [Text(42.722222222222214, 0.5, 'Y-axis'), Text(0, 426.56666666666666, ''), <matplotlib.axis.YTick object at 0x107e50220>, <matplotlib.axis.YTick object at 0x107e17b80>, <matplotlib.axis.YTick object at 0x107d5f370>, <matplotlib.axis.YTick object at 0x107e816c0>, <matplotlib.axis.YTick object at 0x107e82170>, <matplotlib.axis.YTick object at 0x107e82c20>, <matplotlib.axis.YTick object at 0x107e824d0>, <matplotlib.axis.YTick object at 0x107e837f0>], 'clip_box': <matplotlib.transforms.TransformedBbox object at 0x107e51de0>, 'clip_on': True, 'clip_path': None, 'data_interval': array([0., 1.]), 'figure': <Figure size 640x480 with 1 Axes>, 'gid': None, 'gridlines': <a list of 8 Line2D gridline objects>, 'in_layout': True, 'inverted': False, 'label': Text(42.722222222222214, 0.5, 'Y-axis'), 'label_position': 'left', 'label_text': 'Y-axis', 'major_formatter': <matplotlib.ticker.ScalarFormatter object at 0x107e16680>, 'major_locator': <matplotlib.ticker.AutoLocator object at 0x107e166e0>, 'major_ticks': [<matplotlib.axis.YTick object at 0x107e50220>, <matplotlib.axis.YTick object at 0x107e17b80>, <matplotlib.axis.YTick object at 0x107d5f370>, <matplotlib.axis.YTick object at 0x107e816c0>, <matplotlib.axis.YTick object at 0x107e82170>, <matplotlib.axis.YTick object at 0x107e82c20>, <matplotlib.axis.YTick object at 0x107e824d0>, <matplotlib.axis.YTick object at 0x107e837f0>], 'majorticklabels': [Text(0, -0.2, '−0.2'), Text(0, 0.0, '0.0'), Text(0, 0.2, '0.2'), Text(0, 0.4000000000000001, '0.4'), Text(0, 0.6000000000000001, '0.6'), Text(0, 0.8, '0.8'), Text(0, 1.0000000000000002, '1.0'), Text(0, 1.2000000000000002, '1.2')], 'majorticklines': <a list of 16 Line2D ticklines objects>, 'majorticklocs': array([-0.2,  0. ,  0.2,  0.4,  0.6,  0.8,  1. ,  1.2]), 'minor_formatter': <matplotlib.ticker.NullFormatter object at 0x107e16920>, 'minor_locator': <matplotlib.ticker.NullLocator object at 0x107e166b0>, 'minor_ticks': [], 'minorticklabels': [], 'minorticklines': <a list of 0 Line2D ticklines objects>, 'minorticklocs': array([], dtype=float64), 'minpos': 0.5, 'mouseover': False, 'offset_text': Text(0, 426.56666666666666, ''), 'path_effects': [], 'picker': None, 'pickradius': 15, 'rasterized': False, 'remove_overlapping_locs': True, 'scale': 'linear', 'sketch_params': None, 'snap': None, 'tick_padding': 3.5, 'tick_params': {'left': True, 'right': False, 'labelleft': True, 'labelright': False, 'gridOn': False}, 'tick_space': 13, 'ticklabels': [Text(0, -0.2, '−0.2'), Text(0, 0.0, '0.0'), Text(0, 0.2, '0.2'), Text(0, 0.4000000000000001, '0.4'), Text(0, 0.6000000000000001, '0.6'), Text(0, 0.8, '0.8'), Text(0, 1.0000000000000002, '1.0'), Text(0, 1.2000000000000002, '1.2')], 'ticklines': <a list of 16 Line2D ticklines objects>, 'ticklocs': array([-0.2,  0. ,  0.2,  0.4,  0.6,  0.8,  1. ,  1.2]), 'ticks_direction': array(['out', 'out', 'out', 'out', 'out', 'out', 'out', 'out'],\n",
      "      dtype='<U3'), 'ticks_position': 'left', 'tightbbox': Bbox([[28.722222222222214, 61.099999999999994], [70.27777777777777, 411.1]]), 'transform': <matplotlib.transforms.IdentityTransform object at 0x107eb4b80>, 'transformed_clip_path_and_affine': (None, None), 'units': None, 'url': None, 'view_interval': array([-0.05,  1.05]), 'visible': True, 'window_extent': Bbox([[0.0, 0.0], [0.0, 0.0]]), 'zorder': 1.5}}\n",
      "\n",
      "{'type': 'Text', 'properties': {'agg_filter': None, 'alpha': None, 'animated': False, 'antialiased': True, 'bbox_patch': None, 'children': [], 'clip_box': None, 'clip_on': True, 'clip_path': None, 'color': 'black', 'figure': <Figure size 640x480 with 1 Axes>, 'fontfamily': ['sans-serif'], 'fontname': 'DejaVu Sans', 'fontproperties': <matplotlib.font_manager.FontProperties object at 0x107e176a0>, 'fontsize': 12.0, 'fontstyle': 'normal', 'fontvariant': 'normal', 'fontweight': 'normal', 'gid': None, 'horizontalalignment': 'center', 'in_layout': True, 'label': '', 'math_fontfamily': 'dejavusans', 'mouseover': False, 'parse_math': True, 'path_effects': [], 'picker': None, 'position': (0.5, 1.0), 'rasterized': False, 'rotation': 0.0, 'rotation_mode': 'default', 'sketch_params': None, 'snap': None, 'stretch': 'normal', 'text': 'Example Chart', 'tightbbox': Bbox([[266.625, 426.7333333333333], [389.375, 444.7333333333333]]), 'transform': <matplotlib.transforms.CompositeGenericTransform object at 0x107e532b0>, 'transform_rotates_text': False, 'transformed_clip_path_and_affine': (None, None), 'unitless_position': (0.5, 1.0), 'url': None, 'usetex': False, 'verticalalignment': 'baseline', 'visible': True, 'window_extent': Bbox([[266.625, 426.7333333333333], [389.375, 444.7333333333333]]), 'wrap': False, 'zorder': 3}}\n",
      "\n",
      "{'type': 'Text', 'properties': {'agg_filter': None, 'alpha': None, 'animated': False, 'antialiased': True, 'bbox_patch': None, 'children': [], 'clip_box': None, 'clip_on': True, 'clip_path': None, 'color': 'black', 'figure': <Figure size 640x480 with 1 Axes>, 'fontfamily': ['sans-serif'], 'fontname': 'DejaVu Sans', 'fontproperties': <matplotlib.font_manager.FontProperties object at 0x107e17760>, 'fontsize': 12.0, 'fontstyle': 'normal', 'fontvariant': 'normal', 'fontweight': 'normal', 'gid': None, 'horizontalalignment': 'left', 'in_layout': True, 'label': '', 'math_fontfamily': 'dejavusans', 'mouseover': False, 'parse_math': True, 'path_effects': [], 'picker': None, 'position': (0.0, 1.0), 'rasterized': False, 'rotation': 0.0, 'rotation_mode': 'default', 'sketch_params': None, 'snap': None, 'stretch': 'normal', 'text': '', 'tightbbox': Bbox([[80.0, 430.7333333333333], [80.0, 430.7333333333333]]), 'transform': <matplotlib.transforms.CompositeGenericTransform object at 0x107e50880>, 'transform_rotates_text': False, 'transformed_clip_path_and_affine': (None, None), 'unitless_position': (0.0, 1.0), 'url': None, 'usetex': False, 'verticalalignment': 'baseline', 'visible': True, 'window_extent': Bbox([[80.0, 430.7333333333333], [80.0, 430.7333333333333]]), 'wrap': False, 'zorder': 3}}\n",
      "\n",
      "{'type': 'Text', 'properties': {'agg_filter': None, 'alpha': None, 'animated': False, 'antialiased': True, 'bbox_patch': None, 'children': [], 'clip_box': None, 'clip_on': True, 'clip_path': None, 'color': 'black', 'figure': <Figure size 640x480 with 1 Axes>, 'fontfamily': ['sans-serif'], 'fontname': 'DejaVu Sans', 'fontproperties': <matplotlib.font_manager.FontProperties object at 0x107e50a60>, 'fontsize': 12.0, 'fontstyle': 'normal', 'fontvariant': 'normal', 'fontweight': 'normal', 'gid': None, 'horizontalalignment': 'right', 'in_layout': True, 'label': '', 'math_fontfamily': 'dejavusans', 'mouseover': False, 'parse_math': True, 'path_effects': [], 'picker': None, 'position': (1.0, 1.0), 'rasterized': False, 'rotation': 0.0, 'rotation_mode': 'default', 'sketch_params': None, 'snap': None, 'stretch': 'normal', 'text': '', 'tightbbox': Bbox([[576.0, 430.7333333333333], [576.0, 430.7333333333333]]), 'transform': <matplotlib.transforms.CompositeGenericTransform object at 0x107e50a90>, 'transform_rotates_text': False, 'transformed_clip_path_and_affine': (None, None), 'unitless_position': (1.0, 1.0), 'url': None, 'usetex': False, 'verticalalignment': 'baseline', 'visible': True, 'window_extent': Bbox([[576.0, 430.7333333333333], [576.0, 430.7333333333333]]), 'wrap': False, 'zorder': 3}}\n",
      "\n",
      "{'type': 'Rectangle', 'properties': {'agg_filter': None, 'alpha': None, 'angle': 0.0, 'animated': False, 'antialiased': True, 'bbox': Bbox([[0.0, 0.0], [1.0, 1.0]]), 'capstyle': 'butt', 'center': array([0.5, 0.5]), 'children': [], 'clip_box': None, 'clip_on': True, 'clip_path': None, 'corners': array([[0., 0.],\n",
      "       [1., 0.],\n",
      "       [1., 1.],\n",
      "       [0., 1.]]), 'data_transform': <matplotlib.transforms.BboxTransformTo object at 0x107e15a20>, 'edgecolor': (0.0, 0.0, 0.0, 0.0), 'extents': Bbox([[80.0, 52.8], [576.0, 422.4]]), 'facecolor': (1.0, 1.0, 1.0, 1.0), 'figure': <Figure size 640x480 with 1 Axes>, 'fill': True, 'gid': None, 'hatch': None, 'height': 1.0, 'in_layout': True, 'joinstyle': 'miter', 'label': '', 'linestyle': 'solid', 'linewidth': 0.0, 'mouseover': False, 'patch_transform': <matplotlib.transforms.CompositeGenericTransform object at 0x107eb7a30>, 'path': Path(array([[0., 0.],\n",
      "       [1., 0.],\n",
      "       [1., 1.],\n",
      "       [0., 1.],\n",
      "       [0., 0.]]), array([ 1,  2,  2,  2, 79], dtype=uint8)), 'path_effects': [], 'picker': None, 'rasterized': False, 'sketch_params': None, 'snap': None, 'tightbbox': Bbox([[80.0, 52.8], [576.0, 422.4]]), 'transform': <matplotlib.transforms.CompositeGenericTransform object at 0x107eb7d30>, 'transformed_clip_path_and_affine': (None, None), 'url': None, 'verts': array([[ 80. ,  52.8],\n",
      "       [576. ,  52.8],\n",
      "       [576. , 422.4],\n",
      "       [ 80. , 422.4],\n",
      "       [ 80. ,  52.8]]), 'visible': True, 'width': 1.0, 'window_extent': Bbox([[80.0, 52.8], [576.0, 422.4]]), 'x': 0.0, 'xy': (0.0, 0.0), 'y': 0.0, 'zorder': 1}}\n",
      "\n"
     ]
    },
    {
     "data": {
      "image/png": "[encoded data removed]",
      "text/plain": [
       "<Figure size 640x480 with 1 Axes>"
      ]
     },
     "metadata": {},
     "output_type": "display_data"
    }
   ],
   "source": [
    "import matplotlib.pyplot as plt\n",
    "\n",
    "# Create a simple plot\n",
    "fig, ax = plt.subplots()\n",
    "ax.plot([0, 1], [0, 1], label='Line')\n",
    "ax.scatter([0.5], [0.5], color='red', label='Point')\n",
    "ax.set_title('Example Chart')\n",
    "ax.set_xlabel('X-axis')\n",
    "ax.set_ylabel('Y-axis')\n",
    "\n",
    "# Function to retrieve all artists and their properties\n",
    "def get_artists_properties(fig):\n",
    "    artists_data = []\n",
    "    for ax in fig.get_axes():\n",
    "        for artist in ax.get_children():\n",
    "            artist_info = {\n",
    "                'type': type(artist).__name__,\n",
    "                'properties': {k: v for k, v in artist.properties().items()}\n",
    "            }\n",
    "            artists_data.append(artist_info)\n",
    "    return artists_data\n",
    "\n",
    "# Retrieve and print all artists and their properties\n",
    "artists_data = get_artists_properties(fig)\n",
    "for artist in artists_data:\n",
    "    print(artist)\n",
    "    print()\n",
    "\n",
    "plt.show()\n"
   ]
  },
  {
   "cell_type": "code",
   "execution_count": 3,
   "metadata": {},
   "outputs": [
    {
     "data": {
      "application/vnd.plotly.v1+json": {
       "config": {
        "plotlyServerURL": "https://plot.ly"
       },
       "data": [
        {
         "line": {
          "color": "rgba (31, 119, 180, 1)",
          "dash": "dash",
          "width": 2
         },
         "mode": "lines",
         "name": "_child0",
         "type": "scatter",
         "x": [
          0,
          0.20408163265306123,
          0.40816326530612246,
          0.6122448979591837,
          0.8163265306122449,
          1.0204081632653061,
          1.2244897959183674,
          1.4285714285714286,
          1.6326530612244898,
          1.836734693877551,
          2.0408163265306123,
          2.2448979591836737,
          2.4489795918367347,
          2.6530612244897958,
          2.857142857142857,
          3.0612244897959187,
          3.2653061224489797,
          3.4693877551020407,
          3.673469387755102,
          3.8775510204081636,
          4.081632653061225,
          4.285714285714286,
          4.4897959183673475,
          4.6938775510204085,
          4.8979591836734695,
          5.1020408163265305,
          5.3061224489795915,
          5.510204081632653,
          5.714285714285714,
          5.918367346938775,
          6.122448979591837,
          6.326530612244898,
          6.530612244897959,
          6.73469387755102,
          6.938775510204081,
          7.142857142857143,
          7.346938775510204,
          7.551020408163265,
          7.755102040816327,
          7.959183673469388,
          8.16326530612245,
          8.36734693877551,
          8.571428571428571,
          8.775510204081632,
          8.979591836734695,
          9.183673469387756,
          9.387755102040817,
          9.591836734693878,
          9.795918367346939,
          10
         ],
         "xaxis": "x",
         "y": [
          0,
          0.20266793654820095,
          0.39692414892492234,
          0.5747060412161792,
          0.7286347834693504,
          0.8523215697196184,
          0.9406327851124867,
          0.9899030763721239,
          0.9980874821347183,
          0.9648463089837632,
          0.8915592304110037,
          0.7812680235262638,
          0.6385503202266021,
          0.469329612777201,
          0.28062939951435684,
          0.0802816748428135,
          -0.12339813736217871,
          -0.3219563150726187,
          -0.5071517094845144,
          -0.6712977935519321,
          -0.8075816909683363,
          -0.9103469443107828,
          -0.9753282860670456,
          -0.9998286683840896,
          -0.9828312039256306,
          -0.9250413717382029,
          -0.8288577363730427,
          -0.6982723955653997,
          -0.5387052883861563,
          -0.3567792408989381,
          -0.16004508604325057,
          0.04333173336868346,
          0.2449100710119793,
          0.4363234264718193,
          0.6096271964908323,
          0.7576284153927202,
          0.8741842988197335,
          0.9544571997387519,
          0.9951153947776636,
          0.9944713672636168,
          0.9525518475314604,
          0.8710967034823207,
          0.7534867274396376,
          0.6046033165061544,
          0.4306258703827373,
          0.2387753156440309,
          0.03701440148506237,
          -0.1662827938487564,
          -0.3626784288265488,
          -0.5440211108893698
         ],
         "yaxis": "y"
        },
        {
         "line": {
          "color": "rgba (255, 127, 14, 1)",
          "dash": "dash",
          "width": 2
         },
         "mode": "lines",
         "name": "_child1",
         "type": "scatter",
         "x": [
          0,
          0.20408163265306123,
          0.40816326530612246,
          0.6122448979591837,
          0.8163265306122449,
          1.0204081632653061,
          1.2244897959183674,
          1.4285714285714286,
          1.6326530612244898,
          1.836734693877551,
          2.0408163265306123,
          2.2448979591836737,
          2.4489795918367347,
          2.6530612244897958,
          2.857142857142857,
          3.0612244897959187,
          3.2653061224489797,
          3.4693877551020407,
          3.673469387755102,
          3.8775510204081636,
          4.081632653061225,
          4.285714285714286,
          4.4897959183673475,
          4.6938775510204085,
          4.8979591836734695,
          5.1020408163265305,
          5.3061224489795915,
          5.510204081632653,
          5.714285714285714,
          5.918367346938775,
          6.122448979591837,
          6.326530612244898,
          6.530612244897959,
          6.73469387755102,
          6.938775510204081,
          7.142857142857143,
          7.346938775510204,
          7.551020408163265,
          7.755102040816327,
          7.959183673469388,
          8.16326530612245,
          8.36734693877551,
          8.571428571428571,
          8.775510204081632,
          8.979591836734695,
          9.183673469387756,
          9.387755102040817,
          9.591836734693878,
          9.795918367346939,
          10
         ],
         "xaxis": "x",
         "y": [
          1,
          0.9792475210564969,
          0.9178514149905888,
          0.8183599245989673,
          0.6849024400004521,
          0.5230181084730104,
          0.33942593237925484,
          0.14174589725634046,
          -0.061817295362854206,
          -0.262814763741325,
          -0.4529041164186286,
          -0.6241957028171256,
          -0.7695800728569471,
          -0.883023054382162,
          -0.95981620122199,
          -0.996772217050833,
          -0.9923572439880433,
          -0.9467545253046645,
          -0.8618567999191831,
          -0.7411877443484259,
          -0.5897557226621226,
          -0.41384591454310704,
          -0.22075944916926946,
          -0.018510372154503518,
          0.18450697707700792,
          0.37986637199507933,
          0.5594594291408053,
          0.7158321462405541,
          0.842494280256423,
          0.9341887246502055,
          0.9871097053688656,
          0.9990607393363355,
          0.9695457993910898,
          0.8997899018725932,
          0.7926882623697213,
          0.6526861299196696,
          0.48559428713386943,
          0.29834787391040735,
          0.09871854474461515,
          -0.10500809346346798,
          -0.30437637517455507,
          -0.49111152825222276,
          -0.6574631180319587,
          -0.7965267287855186,
          -0.9025305312049614,
          -0.9710748419350043,
          -0.9993147322454036,
          -0.9860781066780927,
          -0.931914350819809,
          -0.8390715290764524
         ],
         "yaxis": "y"
        }
       ],
       "layout": {
        "annotations": [
         {
          "align": "left",
          "font": {
           "color": "#000000",
           "size": 10
          },
          "opacity": 1,
          "showarrow": false,
          "text": "hello world",
          "x": 0.5,
          "xanchor": "left",
          "xref": "x",
          "y": 0.8,
          "yanchor": "bottom",
          "yref": "y"
         }
        ],
        "autosize": false,
        "height": 480,
        "hovermode": "closest",
        "margin": {
         "b": 52,
         "l": 80,
         "pad": 0,
         "r": 63,
         "t": 57
        },
        "showlegend": true,
        "template": {
         "data": {
          "bar": [
           {
            "error_x": {
             "color": "#2a3f5f"
            },
            "error_y": {
             "color": "#2a3f5f"
            },
            "marker": {
             "line": {
              "color": "#E5ECF6",
              "width": 0.5
             },
             "pattern": {
              "fillmode": "overlay",
              "size": 10,
              "solidity": 0.2
             }
            },
            "type": "bar"
           }
          ],
          "barpolar": [
           {
            "marker": {
             "line": {
              "color": "#E5ECF6",
              "width": 0.5
             },
             "pattern": {
              "fillmode": "overlay",
              "size": 10,
              "solidity": 0.2
             }
            },
            "type": "barpolar"
           }
          ],
          "carpet": [
           {
            "aaxis": {
             "endlinecolor": "#2a3f5f",
             "gridcolor": "white",
             "linecolor": "white",
             "minorgridcolor": "white",
             "startlinecolor": "#2a3f5f"
            },
            "baxis": {
             "endlinecolor": "#2a3f5f",
             "gridcolor": "white",
             "linecolor": "white",
             "minorgridcolor": "white",
             "startlinecolor": "#2a3f5f"
            },
            "type": "carpet"
           }
          ],
          "choropleth": [
           {
            "colorbar": {
             "outlinewidth": 0,
             "ticks": ""
            },
            "type": "choropleth"
           }
          ],
          "contour": [
           {
            "colorbar": {
             "outlinewidth": 0,
             "ticks": ""
            },
            "colorscale": [
             [
              0,
              "#0d0887"
             ],
             [
              0.1111111111111111,
              "#46039f"
             ],
             [
              0.2222222222222222,
              "#7201a8"
             ],
             [
              0.3333333333333333,
              "#9c179e"
             ],
             [
              0.4444444444444444,
              "#bd3786"
             ],
             [
              0.5555555555555556,
              "#d8576b"
             ],
             [
              0.6666666666666666,
              "#ed7953"
             ],
             [
              0.7777777777777778,
              "#fb9f3a"
             ],
             [
              0.8888888888888888,
              "#fdca26"
             ],
             [
              1,
              "#f0f921"
             ]
            ],
            "type": "contour"
           }
          ],
          "contourcarpet": [
           {
            "colorbar": {
             "outlinewidth": 0,
             "ticks": ""
            },
            "type": "contourcarpet"
           }
          ],
          "heatmap": [
           {
            "colorbar": {
             "outlinewidth": 0,
             "ticks": ""
            },
            "colorscale": [
             [
              0,
              "#0d0887"
             ],
             [
              0.1111111111111111,
              "#46039f"
             ],
             [
              0.2222222222222222,
              "#7201a8"
             ],
             [
              0.3333333333333333,
              "#9c179e"
             ],
             [
              0.4444444444444444,
              "#bd3786"
             ],
             [
              0.5555555555555556,
              "#d8576b"
             ],
             [
              0.6666666666666666,
              "#ed7953"
             ],
             [
              0.7777777777777778,
              "#fb9f3a"
             ],
             [
              0.8888888888888888,
              "#fdca26"
             ],
             [
              1,
              "#f0f921"
             ]
            ],
            "type": "heatmap"
           }
          ],
          "heatmapgl": [
           {
            "colorbar": {
             "outlinewidth": 0,
             "ticks": ""
            },
            "colorscale": [
             [
              0,
              "#0d0887"
             ],
             [
              0.1111111111111111,
              "#46039f"
             ],
             [
              0.2222222222222222,
              "#7201a8"
             ],
             [
              0.3333333333333333,
              "#9c179e"
             ],
             [
              0.4444444444444444,
              "#bd3786"
             ],
             [
              0.5555555555555556,
              "#d8576b"
             ],
             [
              0.6666666666666666,
              "#ed7953"
             ],
             [
              0.7777777777777778,
              "#fb9f3a"
             ],
             [
              0.8888888888888888,
              "#fdca26"
             ],
             [
              1,
              "#f0f921"
             ]
            ],
            "type": "heatmapgl"
           }
          ],
          "histogram": [
           {
            "marker": {
             "pattern": {
              "fillmode": "overlay",
              "size": 10,
              "solidity": 0.2
             }
            },
            "type": "histogram"
           }
          ],
          "histogram2d": [
           {
            "colorbar": {
             "outlinewidth": 0,
             "ticks": ""
            },
            "colorscale": [
             [
              0,
              "#0d0887"
             ],
             [
              0.1111111111111111,
              "#46039f"
             ],
             [
              0.2222222222222222,
              "#7201a8"
             ],
             [
              0.3333333333333333,
              "#9c179e"
             ],
             [
              0.4444444444444444,
              "#bd3786"
             ],
             [
              0.5555555555555556,
              "#d8576b"
             ],
             [
              0.6666666666666666,
              "#ed7953"
             ],
             [
              0.7777777777777778,
              "#fb9f3a"
             ],
             [
              0.8888888888888888,
              "#fdca26"
             ],
             [
              1,
              "#f0f921"
             ]
            ],
            "type": "histogram2d"
           }
          ],
          "histogram2dcontour": [
           {
            "colorbar": {
             "outlinewidth": 0,
             "ticks": ""
            },
            "colorscale": [
             [
              0,
              "#0d0887"
             ],
             [
              0.1111111111111111,
              "#46039f"
             ],
             [
              0.2222222222222222,
              "#7201a8"
             ],
             [
              0.3333333333333333,
              "#9c179e"
             ],
             [
              0.4444444444444444,
              "#bd3786"
             ],
             [
              0.5555555555555556,
              "#d8576b"
             ],
             [
              0.6666666666666666,
              "#ed7953"
             ],
             [
              0.7777777777777778,
              "#fb9f3a"
             ],
             [
              0.8888888888888888,
              "#fdca26"
             ],
             [
              1,
              "#f0f921"
             ]
            ],
            "type": "histogram2dcontour"
           }
          ],
          "mesh3d": [
           {
            "colorbar": {
             "outlinewidth": 0,
             "ticks": ""
            },
            "type": "mesh3d"
           }
          ],
          "parcoords": [
           {
            "line": {
             "colorbar": {
              "outlinewidth": 0,
              "ticks": ""
             }
            },
            "type": "parcoords"
           }
          ],
          "pie": [
           {
            "automargin": true,
            "type": "pie"
           }
          ],
          "scatter": [
           {
            "fillpattern": {
             "fillmode": "overlay",
             "size": 10,
             "solidity": 0.2
            },
            "type": "scatter"
           }
          ],
          "scatter3d": [
           {
            "line": {
             "colorbar": {
              "outlinewidth": 0,
              "ticks": ""
             }
            },
            "marker": {
             "colorbar": {
              "outlinewidth": 0,
              "ticks": ""
             }
            },
            "type": "scatter3d"
           }
          ],
          "scattercarpet": [
           {
            "marker": {
             "colorbar": {
              "outlinewidth": 0,
              "ticks": ""
             }
            },
            "type": "scattercarpet"
           }
          ],
          "scattergeo": [
           {
            "marker": {
             "colorbar": {
              "outlinewidth": 0,
              "ticks": ""
             }
            },
            "type": "scattergeo"
           }
          ],
          "scattergl": [
           {
            "marker": {
             "colorbar": {
              "outlinewidth": 0,
              "ticks": ""
             }
            },
            "type": "scattergl"
           }
          ],
          "scattermapbox": [
           {
            "marker": {
             "colorbar": {
              "outlinewidth": 0,
              "ticks": ""
             }
            },
            "type": "scattermapbox"
           }
          ],
          "scatterpolar": [
           {
            "marker": {
             "colorbar": {
              "outlinewidth": 0,
              "ticks": ""
             }
            },
            "type": "scatterpolar"
           }
          ],
          "scatterpolargl": [
           {
            "marker": {
             "colorbar": {
              "outlinewidth": 0,
              "ticks": ""
             }
            },
            "type": "scatterpolargl"
           }
          ],
          "scatterternary": [
           {
            "marker": {
             "colorbar": {
              "outlinewidth": 0,
              "ticks": ""
             }
            },
            "type": "scatterternary"
           }
          ],
          "surface": [
           {
            "colorbar": {
             "outlinewidth": 0,
             "ticks": ""
            },
            "colorscale": [
             [
              0,
              "#0d0887"
             ],
             [
              0.1111111111111111,
              "#46039f"
             ],
             [
              0.2222222222222222,
              "#7201a8"
             ],
             [
              0.3333333333333333,
              "#9c179e"
             ],
             [
              0.4444444444444444,
              "#bd3786"
             ],
             [
              0.5555555555555556,
              "#d8576b"
             ],
             [
              0.6666666666666666,
              "#ed7953"
             ],
             [
              0.7777777777777778,
              "#fb9f3a"
             ],
             [
              0.8888888888888888,
              "#fdca26"
             ],
             [
              1,
              "#f0f921"
             ]
            ],
            "type": "surface"
           }
          ],
          "table": [
           {
            "cells": {
             "fill": {
              "color": "#EBF0F8"
             },
             "line": {
              "color": "white"
             }
            },
            "header": {
             "fill": {
              "color": "#C8D4E3"
             },
             "line": {
              "color": "white"
             }
            },
            "type": "table"
           }
          ]
         },
         "layout": {
          "annotationdefaults": {
           "arrowcolor": "#2a3f5f",
           "arrowhead": 0,
           "arrowwidth": 1
          },
          "autotypenumbers": "strict",
          "coloraxis": {
           "colorbar": {
            "outlinewidth": 0,
            "ticks": ""
           }
          },
          "colorscale": {
           "diverging": [
            [
             0,
             "#8e0152"
            ],
            [
             0.1,
             "#c51b7d"
            ],
            [
             0.2,
             "#de77ae"
            ],
            [
             0.3,
             "#f1b6da"
            ],
            [
             0.4,
             "#fde0ef"
            ],
            [
             0.5,
             "#f7f7f7"
            ],
            [
             0.6,
             "#e6f5d0"
            ],
            [
             0.7,
             "#b8e186"
            ],
            [
             0.8,
             "#7fbc41"
            ],
            [
             0.9,
             "#4d9221"
            ],
            [
             1,
             "#276419"
            ]
           ],
           "sequential": [
            [
             0,
             "#0d0887"
            ],
            [
             0.1111111111111111,
             "#46039f"
            ],
            [
             0.2222222222222222,
             "#7201a8"
            ],
            [
             0.3333333333333333,
             "#9c179e"
            ],
            [
             0.4444444444444444,
             "#bd3786"
            ],
            [
             0.5555555555555556,
             "#d8576b"
            ],
            [
             0.6666666666666666,
             "#ed7953"
            ],
            [
             0.7777777777777778,
             "#fb9f3a"
            ],
            [
             0.8888888888888888,
             "#fdca26"
            ],
            [
             1,
             "#f0f921"
            ]
           ],
           "sequentialminus": [
            [
             0,
             "#0d0887"
            ],
            [
             0.1111111111111111,
             "#46039f"
            ],
            [
             0.2222222222222222,
             "#7201a8"
            ],
            [
             0.3333333333333333,
             "#9c179e"
            ],
            [
             0.4444444444444444,
             "#bd3786"
            ],
            [
             0.5555555555555556,
             "#d8576b"
            ],
            [
             0.6666666666666666,
             "#ed7953"
            ],
            [
             0.7777777777777778,
             "#fb9f3a"
            ],
            [
             0.8888888888888888,
             "#fdca26"
            ],
            [
             1,
             "#f0f921"
            ]
           ]
          },
          "colorway": [
           "#636efa",
           "#EF553B",
           "#00cc96",
           "#ab63fa",
           "#FFA15A",
           "#19d3f3",
           "#FF6692",
           "#B6E880",
           "#FF97FF",
           "#FECB52"
          ],
          "font": {
           "color": "#2a3f5f"
          },
          "geo": {
           "bgcolor": "white",
           "lakecolor": "white",
           "landcolor": "#E5ECF6",
           "showlakes": true,
           "showland": true,
           "subunitcolor": "white"
          },
          "hoverlabel": {
           "align": "left"
          },
          "hovermode": "closest",
          "mapbox": {
           "style": "light"
          },
          "paper_bgcolor": "white",
          "plot_bgcolor": "#E5ECF6",
          "polar": {
           "angularaxis": {
            "gridcolor": "white",
            "linecolor": "white",
            "ticks": ""
           },
           "bgcolor": "#E5ECF6",
           "radialaxis": {
            "gridcolor": "white",
            "linecolor": "white",
            "ticks": ""
           }
          },
          "scene": {
           "xaxis": {
            "backgroundcolor": "#E5ECF6",
            "gridcolor": "white",
            "gridwidth": 2,
            "linecolor": "white",
            "showbackground": true,
            "ticks": "",
            "zerolinecolor": "white"
           },
           "yaxis": {
            "backgroundcolor": "#E5ECF6",
            "gridcolor": "white",
            "gridwidth": 2,
            "linecolor": "white",
            "showbackground": true,
            "ticks": "",
            "zerolinecolor": "white"
           },
           "zaxis": {
            "backgroundcolor": "#E5ECF6",
            "gridcolor": "white",
            "gridwidth": 2,
            "linecolor": "white",
            "showbackground": true,
            "ticks": "",
            "zerolinecolor": "white"
           }
          },
          "shapedefaults": {
           "line": {
            "color": "#2a3f5f"
           }
          },
          "ternary": {
           "aaxis": {
            "gridcolor": "white",
            "linecolor": "white",
            "ticks": ""
           },
           "baxis": {
            "gridcolor": "white",
            "linecolor": "white",
            "ticks": ""
           },
           "bgcolor": "#E5ECF6",
           "caxis": {
            "gridcolor": "white",
            "linecolor": "white",
            "ticks": ""
           }
          },
          "title": {
           "x": 0.05
          },
          "xaxis": {
           "automargin": true,
           "gridcolor": "white",
           "linecolor": "white",
           "ticks": "",
           "title": {
            "standoff": 15
           },
           "zerolinecolor": "white",
           "zerolinewidth": 2
          },
          "yaxis": {
           "automargin": true,
           "gridcolor": "white",
           "linecolor": "white",
           "ticks": "",
           "title": {
            "standoff": 15
           },
           "zerolinecolor": "white",
           "zerolinewidth": 2
          }
         }
        },
        "width": 640,
        "xaxis": {
         "anchor": "y",
         "domain": [
          0,
          1
         ],
         "mirror": "ticks",
         "nticks": 8,
         "range": [
          -0.5,
          10.5
         ],
         "showgrid": false,
         "showline": true,
         "side": "bottom",
         "tickfont": {
          "size": 10
         },
         "ticks": "inside",
         "type": "linear",
         "zeroline": false
        },
        "yaxis": {
         "anchor": "x",
         "domain": [
          0,
          1
         ],
         "mirror": "ticks",
         "nticks": 11,
         "range": [
          -1.099820101803294,
          1.0999914334192045
         ],
         "showgrid": false,
         "showline": true,
         "side": "left",
         "tickfont": {
          "size": 10
         },
         "ticks": "inside",
         "type": "linear",
         "zeroline": false
        }
       }
      }
     },
     "metadata": {},
     "output_type": "display_data"
    }
   ],
   "source": [
    "import matplotlib.pyplot as plt\n",
    "import numpy as np\n",
    "\n",
    "fig, ax = plt.subplots()\n",
    "x = np.linspace(0, 10)\n",
    "ax.plot(x, np.sin(x), '--', linewidth=2)\n",
    "ax.plot(x, np.cos(x), '--', linewidth=2)\n",
    "ax.text(x=0.5, y=0.8, s='hello world')\n",
    "\n",
    "\n",
    "import plotly.graph_objs as go\n",
    "import plotly.tools as tls\n",
    "plotly_fig = tls.mpl_to_plotly(fig)\n",
    "plotly_fig['layout']['showlegend'] = True\n",
    "fig = go.Figure(plotly_fig)\n",
    "fig.show()"
   ]
  }
 ],
 "metadata": {
  "kernelspec": {
   "display_name": "venv",
   "language": "python",
   "name": "python3"
  },
  "language_info": {
   "codemirror_mode": {
    "name": "ipython",
    "version": 3
   },
   "file_extension": ".py",
   "mimetype": "text/x-python",
   "name": "python",
   "nbconvert_exporter": "python",
   "pygments_lexer": "ipython3",
   "version": "3.10.13"
  }
 },
 "nbformat": 4,
 "nbformat_minor": 2
}
