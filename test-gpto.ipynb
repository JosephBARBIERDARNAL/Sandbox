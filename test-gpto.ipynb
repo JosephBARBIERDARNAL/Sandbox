{
 "cells": [
  {
   "cell_type": "code",
   "execution_count": 4,
   "metadata": {},
   "outputs": [
    {
     "name": "stdout",
     "output_type": "stream",
     "text": [
      "The purpose of life is a deeply philosophical question that has been contemplated by thinkers, theologians, scientists, and individuals throughout history. There is no single, universally accepted answer, as the purpose of life can vary greatly depending on one's beliefs, values, and experiences. Here are a few perspectives:\n",
      "\n",
      "1. **Religious and Spiritual Perspectives**: Many religious traditions offer their own interpretations of life's purpose. For example, in Christianity, the purpose of life might be to love and serve God and others, and to prepare for an eternal life with God. In Buddhism, the purpose might be to attain enlightenment and escape the cycle of suffering and rebirth.\n",
      "\n",
      "2. **Philosophical Perspectives**: Philosophers have proposed various answers to the question of life's purpose. Existentialists, like Jean-Paul Sartre, argue that life has no inherent meaning and that individuals must create their own purpose through their choices and actions. Utilitarians, like John Stuart Mill, might suggest that the purpose of life is to maximize happiness and minimize suffering.\n",
      "\n",
      "3. **Scientific Perspectives**: From a biological standpoint, the purpose of life might be seen as survival and reproduction. Evolutionary biology suggests that living organisms are driven by the need to pass on their genes to the next generation.\n",
      "\n",
      "4. **Personal Perspectives**: On an individual level, many people find purpose through personal fulfillment, relationships, career achievements, creativity, and contributing to the well-being of others. The purpose of life can be a highly personal and evolving concept, shaped by one's experiences, goals, and reflections.\n",
      "\n",
      "Ultimately, the purpose of life is a question that each person may answer differently, and it can be a lifelong journey to explore and understand one's own purpose.\n"
     ]
    }
   ],
   "source": [
    "from openai import OpenAI\n",
    "import os\n",
    "\n",
    "# Function to call GPT model\n",
    "def call_gpt(client, messages, model=\"gpt-4o-2024-05-13\", temperature=0.1):\n",
    "    try:\n",
    "        completion = client.chat.completions.create(\n",
    "            model=model,\n",
    "            messages=messages,\n",
    "            temperature=temperature\n",
    "        )\n",
    "        return completion.choices[0].message.content\n",
    "    except Exception as e:\n",
    "        print(\"An error occurred: \", e)\n",
    "        return \"Error: Could not generate a response.\"\n",
    "\n",
    "# Initializing OpenAI client\n",
    "client = OpenAI(api_key=\"sk-\")\n",
    "\n",
    "\n",
    "# Example usage\n",
    "messages = [\n",
    "    {\"role\": \"system\", \"content\": \"You are a helpful assistant.\"},\n",
    "    {\"role\": \"user\", \"content\": \"What is the purpose of life?\"}\n",
    "]\n",
    "response = call_gpt(client, messages)\n",
    "print(response)\n"
   ]
  }
 ],
 "metadata": {
  "kernelspec": {
   "display_name": "venv",
   "language": "python",
   "name": "python3"
  },
  "language_info": {
   "codemirror_mode": {
    "name": "ipython",
    "version": 3
   },
   "file_extension": ".py",
   "mimetype": "text/x-python",
   "name": "python",
   "nbconvert_exporter": "python",
   "pygments_lexer": "ipython3",
   "version": "3.10.13"
  },
  "orig_nbformat": 4
 },
 "nbformat": 4,
 "nbformat_minor": 2
}
