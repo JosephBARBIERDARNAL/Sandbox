{
 "cells": [
  {
   "cell_type": "code",
   "execution_count": 1,
   "metadata": {},
   "outputs": [],
   "source": [
    "# load libraries\n",
    "import pandas as pd\n",
    "import matplotlib.pyplot as plt\n",
    "from pypalettes import load_cmap\n",
    "\n",
    "# create dataset\n",
    "data = {\n",
    "    \"name\": [\"Mark\", \"Robert\", \"Emily\", \"Marion\", \"Nicolas\", \"Mélanie\", \"Gabriel\", \"Jean\", \"Paul\"],\n",
    "    \"value\": [90, 12, 34, 53, 98, 23, 18, 104, 2]\n",
    "}\n",
    "df = pd.DataFrame(data)\n",
    "df.sort_values(by=\"value\", inplace=True)\n",
    "\n",
    "# create a color palette\n",
    "cmap = load_cmap('Acadia')\n",
    "\n",
    "# create a bar plot\n",
    "fig, ax = plt.subplots(figsize=(8,8))\n",
    "ax.barh(df[\"name\"], df[\"value\"], color=[cmap(i) for i in range(len(df))][::-1])\n",
    "plt.savefig(\"barplot_horizontal.png\", bbox_inches='tight', dpi=300)\n",
    "plt.close()"
   ]
  },
  {
   "cell_type": "code",
   "execution_count": 1,
   "metadata": {},
   "outputs": [],
   "source": [
    "# load libraries\n",
    "import pandas as pd\n",
    "import numpy as np\n",
    "import matplotlib.pyplot as plt\n",
    "import seaborn as sns\n",
    "from pypalettes import load_cmap\n",
    "\n",
    "nCol = 26\n",
    "nRow = 26\n",
    "\n",
    "alphabet = [\n",
    "    \"A\", \"B\", \"C\", \"D\", \"E\", \"F\", \"G\", \"H\", \"I\", \"J\", \"K\", \"L\", \"M\", \"N\", \n",
    "    \"O\", \"P\", \"Q\", \"R\", \"S\", \"T\", \"U\", \"V\", \"W\", \"X\", \"Y\", \"Z\"\n",
    "]\n",
    "\n",
    "def generate_noise_value(x, y):\n",
    "    scale = 100\n",
    "    return (np.sin(x / scale) + np.sin(y / scale)) * np.random.random() * np.random.random() + 0.05 * np.random.random()\n",
    "\n",
    "matrix = np.zeros((nRow, nCol))\n",
    "for x in range(nCol):\n",
    "    for y in range(nRow):\n",
    "        matrix[y, x] = generate_noise_value(x, y)\n",
    "df = pd.DataFrame(matrix, index=alphabet, columns=alphabet)\n",
    "\n",
    "# create a color palette\n",
    "cmap = load_cmap('Acadia', type='continuous')\n",
    "\n",
    "# create a bar plot\n",
    "fig, ax = plt.subplots(figsize=(11,8))\n",
    "sns.heatmap(df, cmap=cmap, ax=ax, cbar=False)\n",
    "plt.savefig(\"heatmap.png\", bbox_inches='tight', dpi=300)\n",
    "plt.close()"
   ]
  }
 ],
 "metadata": {
  "kernelspec": {
   "display_name": "venv",
   "language": "python",
   "name": "python3"
  },
  "language_info": {
   "codemirror_mode": {
    "name": "ipython",
    "version": 3
   },
   "file_extension": ".py",
   "mimetype": "text/x-python",
   "name": "python",
   "nbconvert_exporter": "python",
   "pygments_lexer": "ipython3",
   "version": "3.10.13"
  },
  "orig_nbformat": 4
 },
 "nbformat": 4,
 "nbformat_minor": 2
}
