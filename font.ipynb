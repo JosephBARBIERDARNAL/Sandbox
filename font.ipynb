{
 "cells": [
  {
   "cell_type": "code",
   "execution_count": 3,
   "metadata": {},
   "outputs": [],
   "source": [
    "import matplotlib.pyplot as plt"
   ]
  },
  {
   "cell_type": "code",
   "execution_count": 15,
   "metadata": {},
   "outputs": [
    {
     "name": "stdout",
     "output_type": "stream",
     "text": [
      "Font Raleway-Regular.ttf downloaded.\n",
      "Font Raleway-Regular.ttf registered.\n"
     ]
    },
    {
     "data": {
      "image/png": "[encoded data removed]",
      "text/plain": [
       "<Figure size 640x480 with 1 Axes>"
      ]
     },
     "metadata": {},
     "output_type": "display_data"
    }
   ],
   "source": [
    "import os\n",
    "import requests\n",
    "import matplotlib.pyplot as plt\n",
    "from matplotlib.font_manager import fontManager, FontProperties\n",
    "\n",
    "# Define the URL and the font name\n",
    "font_url = \"https://fonts.googleapis.com/css2?family=Raleway:wght@400&display=swap\"\n",
    "font_name = \"Raleway-Regular.ttf\"\n",
    "\n",
    "def download_font(url, font_name):\n",
    "    response = requests.get(url)\n",
    "    css_content = response.text\n",
    "    \n",
    "    # Extract the actual font URL from the CSS content\n",
    "    font_url = css_content.split(\"url(\")[1].split(\")\")[0].strip()\n",
    "    font_url = font_url.replace(\"https://\", \"http://\")  # Ensure the URL is http\n",
    "    \n",
    "    # Download the font file\n",
    "    font_response = requests.get(font_url)\n",
    "    with open(font_name, \"wb\") as font_file:\n",
    "        font_file.write(font_response.content)\n",
    "    print(f\"Font {font_name} downloaded.\")\n",
    "\n",
    "def register_font(font_name):\n",
    "    font_path = os.path.abspath(font_name)\n",
    "    font_properties = FontProperties(fname=font_path)\n",
    "    fontManager.addfont(font_path)\n",
    "    print(f\"Font {font_name} registered.\")\n",
    "    return font_properties\n",
    "\n",
    "def set_font(font_properties):\n",
    "    plt.rcParams['font.family'] = font_properties.get_name()\n",
    "    print(f\"Font {font_properties.get_name()} set as default in Matplotlib.\")\n",
    "\n",
    "def get_font_properties(url, font_name):\n",
    "    download_font(url, font_name)\n",
    "    font_properties = register_font(font_name)\n",
    "    return font_properties\n",
    "\n",
    "# Example usage\n",
    "myfont = get_font_properties(font_url, font_name)\n",
    "#set_font(font_properties)\n",
    "\n",
    "# Example plot\n",
    "plt.text(0.5, 0.5, \"Hello, World!\", ha='center', va='center', fontsize=20, font=myfont)\n",
    "plt.show()\n"
   ]
  },
  {
   "cell_type": "code",
   "execution_count": 8,
   "metadata": {},
   "outputs": [
    {
     "name": "stdout",
     "output_type": "stream",
     "text": [
      "/Users/josephbarbier/Library/Fonts/FiraSans-Medium.ttf\n",
      "/Users/josephbarbier/Library/Fonts/FiraSans-ExtraBold.ttf\n",
      "/Users/josephbarbier/Library/Fonts/Urbanist-VariableFont_wght.ttf\n",
      "/Users/josephbarbier/Library/Fonts/LilitaOne-Regular.ttf\n",
      "/Users/josephbarbier/Library/Fonts/FamiljenGrotesk-VariableFont_wght.ttf\n",
      "/Users/josephbarbier/Library/Fonts/FiraSans-Regular.ttf\n",
      "/Users/josephbarbier/Library/Fonts/FiraSans-ExtraBoldItalic.ttf\n",
      "/Users/josephbarbier/Library/Fonts/FiraSans-SemiBold.ttf\n",
      "/Users/josephbarbier/Library/Fonts/VCR_OSD_MONO_1.001.ttf\n",
      "/Users/josephbarbier/Library/Fonts/FiraSans-Italic.ttf\n",
      "/Users/josephbarbier/Library/Fonts/PacFont_Good.ttf\n",
      "/Users/josephbarbier/Library/Fonts/FiraSans-LightItalic.ttf\n",
      "/Users/josephbarbier/Library/Fonts/FiraSans-MediumItalic.ttf\n",
      "/Users/josephbarbier/Library/Fonts/SFAlienEncounters.ttf\n",
      "/Users/josephbarbier/Library/Fonts/FiraSans-Thin.ttf\n",
      "/Users/josephbarbier/Library/Fonts/Roboto-Medium.ttf\n",
      "/Users/josephbarbier/Library/Fonts/Pally-Regular.otf\n",
      "/Users/josephbarbier/Library/Fonts/FiraSans-ThinItalic.ttf\n",
      "/Users/josephbarbier/Library/Fonts/FiraSans-BlackItalic.ttf\n",
      "/Users/josephbarbier/Library/Fonts/FiraSans-SemiBoldItalic.ttf\n",
      "/Users/josephbarbier/Library/Fonts/FiraSans-ExtraLight.ttf\n",
      "/Users/josephbarbier/Library/Fonts/SFAlienEncountersSolid-Ital.ttf\n",
      "/Users/josephbarbier/Library/Fonts/Urbanist-Italic-VariableFont_wght.ttf\n",
      "/Users/josephbarbier/Library/Fonts/Pally-Medium.otf\n",
      "/Users/josephbarbier/Library/Fonts/FiraSans-ExtraLightItalic.ttf\n",
      "/Users/josephbarbier/Library/Fonts/windows_command_prompt_0.ttf\n",
      "/Users/josephbarbier/Library/Fonts/FamiljenGrotesk-Bold.ttf\n",
      "/Users/josephbarbier/Library/Fonts/Urbanist-Medium.ttf\n",
      "/Users/josephbarbier/Library/Fonts/FiraSans-Black.ttf\n",
      "/Users/josephbarbier/Library/Fonts/FiraSans-Bold.ttf\n",
      "/Users/josephbarbier/Library/Fonts/SFAlienEncounters-Italic.ttf\n",
      "/Users/josephbarbier/Library/Fonts/FiraSans-BoldItalic.ttf\n",
      "/Users/josephbarbier/Library/Fonts/Pally-Bold.otf\n",
      "/Users/josephbarbier/Library/Fonts/BebasNeue-Regular.ttf\n",
      "/Users/josephbarbier/Library/Fonts/SFAlienEncountersSolid.ttf\n",
      "/Users/josephbarbier/Library/Fonts/Streamster.ttf\n",
      "/Users/josephbarbier/Library/Fonts/Urbanist-Black.ttf\n",
      "/Users/josephbarbier/Library/Fonts/FamiljenGrotesk-SemiBold.ttf\n",
      "/Users/josephbarbier/Library/Fonts/FiraSans-Light.ttf\n",
      "/Users/josephbarbier/Library/Fonts/Roboto-Black.ttf\n"
     ]
    }
   ],
   "source": [
    "import matplotlib.pyplot as plt\n",
    "from matplotlib import font_manager\n",
    "\n",
    "font_dirs = ['/Users/josephbarbier/Library/Fonts/']  # The path to the custom font file.\n",
    "font_files = font_manager.findSystemFonts(fontpaths=font_dirs)\n",
    "\n",
    "for font_file in font_files:\n",
    "   print(font_file)\n",
    "   font_manager.fontManager.addfont(font_file)"
   ]
  }
 ],
 "metadata": {
  "kernelspec": {
   "display_name": "venv",
   "language": "python",
   "name": "python3"
  },
  "language_info": {
   "codemirror_mode": {
    "name": "ipython",
    "version": 3
   },
   "file_extension": ".py",
   "mimetype": "text/x-python",
   "name": "python",
   "nbconvert_exporter": "python",
   "pygments_lexer": "ipython3",
   "version": "3.10.13"
  }
 },
 "nbformat": 4,
 "nbformat_minor": 2
}
